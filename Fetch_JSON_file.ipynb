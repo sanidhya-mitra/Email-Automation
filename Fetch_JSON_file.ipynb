{
 "cells": [
  {
   "cell_type": "code",
   "execution_count": 1,
   "metadata": {},
   "outputs": [
    {
     "name": "stdout",
     "output_type": "stream",
     "text": [
      "JSON data has been written to jira_issues.json\n"
     ]
    }
   ],
   "source": [
    "import requests\n",
    "from requests.auth import HTTPBasicAuth\n",
    "import json\n",
    "\n",
    "\n",
    "base_url = \"https://corecard.atlassian.net/\"\n",
    "api_token = \"\"\n",
    "email = \"\"\n",
    "jql_query = \"project = CCP AND issuetype = epic AND fixVersion = R40 AND status not in (Cancelled) AND key = CCP-149456\"\n",
    "endpoint = f\"{base_url}rest/api/3/search\"\n",
    "\n",
    "\n",
    "headers = {\n",
    "    \"Accept\": \"application/json\"\n",
    "}\n",
    "params = {\n",
    "    \"jql\": jql_query,\n",
    "    \"maxResults\": 100 \n",
    "}\n",
    "\n",
    "# Make the request\n",
    "response = requests.get(\n",
    "    endpoint,\n",
    "    headers=headers,\n",
    "    params=params,\n",
    "    auth=HTTPBasicAuth(email, api_token)\n",
    ")\n",
    "\n",
    "\n",
    "if response.status_code == 200:\n",
    "    \n",
    "    with open('jira_issues.json', 'w') as file:\n",
    "        json.dump(response.json(), file, indent=4)\n",
    "    print(\"JSON data has been written to jira_issues.json\")\n",
    "else:\n",
    "    print(f\"Failed to retrieve data: {response.status_code}\")\n"
   ]
  }
 ],
 "metadata": {
  "kernelspec": {
   "display_name": "Python 3",
   "language": "python",
   "name": "python3"
  },
  "language_info": {
   "codemirror_mode": {
    "name": "ipython",
    "version": 3
   },
   "file_extension": ".py",
   "mimetype": "text/x-python",
   "name": "python",
   "nbconvert_exporter": "python",
   "pygments_lexer": "ipython3",
   "version": "3.12.4"
  }
 },
 "nbformat": 4,
 "nbformat_minor": 2
}
